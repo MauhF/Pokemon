{
  "nbformat": 4,
  "nbformat_minor": 0,
  "metadata": {
    "colab": {
      "provenance": [],
      "authorship_tag": "ABX9TyOu71Yr9fLXk9myJAQcRAfL",
      "include_colab_link": true
    },
    "kernelspec": {
      "name": "python3",
      "display_name": "Python 3"
    },
    "language_info": {
      "name": "python"
    }
  },
  "cells": [
    {
      "cell_type": "markdown",
      "metadata": {
        "id": "view-in-github",
        "colab_type": "text"
      },
      "source": [
        "<a href=\"https://colab.research.google.com/github/MauhF/Pokemon/blob/main/global.ipynb\" target=\"_parent\"><img src=\"https://colab.research.google.com/assets/colab-badge.svg\" alt=\"Open In Colab\"/></a>"
      ]
    },
    {
      "cell_type": "code",
      "execution_count": 11,
      "metadata": {
        "id": "5hGVfObBxh6d"
      },
      "outputs": [],
      "source": [
        "import pandas as pd\n",
        "import seaborn as sns\n",
        "import numpy as np\n",
        "import matplotlib.pyplot as plt"
      ]
    },
    {
      "cell_type": "code",
      "source": [
        "# Carregando os dados\n",
        "pokemom_data = pd.read_csv(\"/Pokemon_20240402174004(1).csv\")"
      ],
      "metadata": {
        "id": "PpuLS8ohxryu"
      },
      "execution_count": 13,
      "outputs": []
    },
    {
      "cell_type": "code",
      "source": [
        "# Contando o número de Pokémon para cada tipo\n",
        "type_counts = pokemom_data['Type 1'].value_counts()"
      ],
      "metadata": {
        "id": "2B0mwzG8yM1r"
      },
      "execution_count": 75,
      "outputs": []
    },
    {
      "cell_type": "code",
      "source": [
        "# Calculando as estatísticas médias\n",
        "mean_stats = pokemom_data[['HP', 'Attack', 'Defense', 'Sp. Atk', 'Sp. Def', 'Speed']].mean()\n",
        "\n",
        "# Exibindo as estatísticas médias\n",
        "print(\"\\nEstatísticas médias de todos os Pokémon:\")\n",
        "print(mean_stats)"
      ],
      "metadata": {
        "id": "7QjJNoCbyaya"
      },
      "execution_count": null,
      "outputs": []
    },
    {
      "cell_type": "code",
      "source": [
        "# Supondo que você já tenha carregado os dados para um DataFrame chamado 'pokemom_data'\n",
        "\n",
        "# 1. Filtrar os dados para obter os Pokémon de cada geração individualmente\n",
        "en1_pokemon = pokemom_data[pokemom_data['Generation'] == 1]\n",
        "gen2_pokemon = pokemom_data[pokemom_data['Generation'] == 2]\n",
        "gen3_pokemon = pokemom_data[pokemom_data['Generation'] == 3]\n",
        "gen4_pokemon = pokemom_data[pokemom_data['Generation'] == 4]\n",
        "gen5_pokemon = pokemom_data[pokemom_data['Generation'] == 5]\n",
        "gen6_pokemon = pokemom_data[pokemom_data['Generation'] == 6]\n",
        "\n",
        "# 2. Calcular o desvio padrão dos atributos para cada geração\n",
        "gen1_std = gen1_pokemon[['HP', 'Attack', 'Defense', 'Sp. Atk', 'Sp. Def', 'Speed']].std()\n",
        "gen2_std = gen2_pokemon[['HP', 'Attack', 'Defense', 'Sp. Atk', 'Sp. Def', 'Speed']].std()\n",
        "gen3_std = gen3_pokemon[['HP', 'Attack', 'Defense', 'Sp. Atk', 'Sp. Def', 'Speed']].std()\n",
        "gen4_std = gen4_pokemon[['HP', 'Attack', 'Defense', 'Sp. Atk', 'Sp. Def', 'Speed']].std()\n",
        "gen5_std = gen5_pokemon[['HP', 'Attack', 'Defense', 'Sp. Atk', 'Sp. Def', 'Speed']].std()\n",
        "gen6_std = gen6_pokemon[['HP', 'Attack', 'Defense', 'Sp. Atk', 'Sp. Def', 'Speed']].std()\n",
        "\n",
        "# 3. Comparar os desvios padrão entre as gerações\n",
        "std_comparison = pd.DataFrame({'Gen1': gen1_std, 'Gen2': gen2_std, 'Gen3': gen3_std, 'Gen4': gen4_std, 'Gen5': gen5_std, 'Gen6': gen6_std})\n",
        "print(\"Comparação do desvio padrão dos atributos entre as gerações:\")\n",
        "print(std_comparison)"
      ],
      "metadata": {
        "id": "3v3SpgiE5Klh"
      },
      "execution_count": null,
      "outputs": []
    },
    {
      "cell_type": "code",
      "source": [
        "gen1_pokemon = pokemom_data[pokemom_data['Generation'] == 1]\n",
        "gen2_pokemon = pokemom_data[pokemom_data['Generation'] == 2]\n",
        "gen3_pokemon = pokemom_data[pokemom_data['Generation'] == 3]\n",
        "gen4_pokemon = pokemom_data[pokemom_data['Generation'] == 4]\n",
        "gen5_pokemon = pokemom_data[pokemom_data['Generation'] == 5]\n",
        "gen6_pokemon = pokemom_data[pokemom_data['Generation'] == 6]\n",
        "\n",
        "# 2. Calcular a média, moda e mediana dos atributos para cada geração\n",
        "gen1_stats = gen1_pokemon[['HP', 'Attack', 'Defense', 'Sp. Atk', 'Sp. Def', 'Speed']]\n",
        "gen2_stats = gen2_pokemon[['HP', 'Attack', 'Defense', 'Sp. Atk', 'Sp. Def', 'Speed']]\n",
        "gen3_stats = gen3_pokemon[['HP', 'Attack', 'Defense', 'Sp. Atk', 'Sp. Def', 'Speed']]\n",
        "gen4_stats = gen4_pokemon[['HP', 'Attack', 'Defense', 'Sp. Atk', 'Sp. Def', 'Speed']]\n",
        "gen5_stats = gen5_pokemon[['HP', 'Attack', 'Defense', 'Sp. Atk', 'Sp. Def', 'Speed']]\n",
        "gen6_stats = gen6_pokemon[['HP', 'Attack', 'Defense', 'Sp. Atk', 'Sp. Def', 'Speed']]\n",
        "\n",
        "gen1_mean = gen1_stats.mean()\n",
        "gen2_mean = gen2_stats.mean()\n",
        "gen3_mean = gen3_stats.mean()\n",
        "gen4_mean = gen4_stats.mean()\n",
        "gen5_mean = gen5_stats.mean()\n",
        "gen6_mean = gen6_stats.mean()\n",
        "\n",
        "gen1_mode = gen1_stats.mode().iloc[0]  # Moda assume o primeiro valor se houver múltiplos\n",
        "gen2_mode = gen2_stats.mode().iloc[0]\n",
        "gen3_mode = gen3_stats.mode().iloc[0]\n",
        "gen4_mode = gen4_stats.mode().iloc[0]\n",
        "gen5_mode = gen5_stats.mode().iloc[0]\n",
        "gen6_mode = gen6_stats.mode().iloc[0]\n",
        "\n",
        "gen1_median = gen1_stats.median()\n",
        "gen2_median = gen2_stats.median()\n",
        "gen3_median = gen3_stats.median()\n",
        "gen4_median = gen4_stats.median()\n",
        "gen5_median = gen5_stats.median()\n",
        "gen6_median = gen6_stats.median()\n",
        "\n",
        "# 3. Comparar os resultados entre as gerações\n",
        "stats_comparison = pd.DataFrame({\n",
        "    'Gen1_Mean': gen1_mean, 'Gen2_Mean': gen2_mean, 'Gen3_Mean': gen3_mean, 'Gen4_Mean': gen4_mean, 'Gen5_Mean': gen5_mean, 'Gen6_Mean': gen6_mean,\n",
        "    'Gen1_Mode': gen1_mode, 'Gen2_Mode': gen2_mode, 'Gen3_Mode': gen3_mode, 'Gen4_Mode': gen4_mode, 'Gen5_Mode': gen5_mode, 'Gen6_Mode': gen6_mode,\n",
        "    'Gen1_Median': gen1_median, 'Gen2_Median': gen2_median, 'Gen3_Median': gen3_median, 'Gen4_Median': gen4_median, 'Gen5_Median': gen5_median, 'Gen6_Median': gen6_median\n",
        "})\n",
        "print(\"Comparação da média, moda e mediana dos atributos entre as gerações:\")\n",
        "print(stats_comparison)"
      ],
      "metadata": {
        "id": "SXkJDnay6t6i"
      },
      "execution_count": null,
      "outputs": []
    },
    {
      "cell_type": "code",
      "source": [
        "# Supondo que você já tenha carregado os dados para um DataFrame chamado 'pokemom_data'\n",
        "\n",
        "# 1. Filtrar os dados para obter os Pokémon de cada geração individualmente\n",
        "gen1_pokemon = pokemom_data[pokemom_data['Generation'] == 1]\n",
        "gen2_pokemon = pokemom_data[pokemom_data['Generation'] == 2]\n",
        "gen3_pokemon = pokemom_data[pokemom_data['Generation'] == 3]\n",
        "gen4_pokemon = pokemom_data[pokemom_data['Generation'] == 4]\n",
        "gen5_pokemon = pokemom_data[pokemom_data['Generation'] == 5]\n",
        "gen6_pokemon = pokemom_data[pokemom_data['Generation'] == 6]\n",
        "\n",
        "# 2. Calcular a variância e a amplitude dos atributos para cada geração\n",
        "gen1_var = gen1_pokemon[['HP', 'Attack', 'Defense', 'Sp. Atk', 'Sp. Def', 'Speed']].var()\n",
        "gen2_var = gen2_pokemon[['HP', 'Attack', 'Defense', 'Sp. Atk', 'Sp. Def', 'Speed']].var()\n",
        "gen3_var = gen3_pokemon[['HP', 'Attack', 'Defense', 'Sp. Atk', 'Sp. Def', 'Speed']].var()\n",
        "gen4_var = gen4_pokemon[['HP', 'Attack', 'Defense', 'Sp. Atk', 'Sp. Def', 'Speed']].var()\n",
        "gen5_var = gen5_pokemon[['HP', 'Attack', 'Defense', 'Sp. Atk', 'Sp. Def', 'Speed']].var()\n",
        "gen6_var = gen6_pokemon[['HP', 'Attack', 'Defense', 'Sp. Atk', 'Sp. Def', 'Speed']].var()\n",
        "\n",
        "gen1_range = gen1_pokemon[['HP', 'Attack', 'Defense', 'Sp. Atk', 'Sp. Def', 'Speed']].max() - gen1_pokemon[['HP', 'Attack', 'Defense', 'Sp. Atk', 'Sp. Def', 'Speed']].min()\n",
        "gen2_range = gen2_pokemon[['HP', 'Attack', 'Defense', 'Sp. Atk', 'Sp. Def', 'Speed']].max() - gen2_pokemon[['HP', 'Attack', 'Defense', 'Sp. Atk', 'Sp. Def', 'Speed']].min()\n",
        "gen3_range = gen3_pokemon[['HP', 'Attack', 'Defense', 'Sp. Atk', 'Sp. Def', 'Speed']].max() - gen3_pokemon[['HP', 'Attack', 'Defense', 'Sp. Atk', 'Sp. Def', 'Speed']].min()\n",
        "gen4_range = gen4_pokemon[['HP', 'Attack', 'Defense', 'Sp. Atk', 'Sp. Def', 'Speed']].max() - gen4_pokemon[['HP', 'Attack', 'Defense', 'Sp. Atk', 'Sp. Def', 'Speed']].min()\n",
        "gen5_range = gen5_pokemon[['HP', 'Attack', 'Defense', 'Sp. Atk', 'Sp. Def', 'Speed']].max() - gen5_pokemon[['HP', 'Attack', 'Defense', 'Sp. Atk', 'Sp. Def', 'Speed']].min()\n",
        "gen6_range = gen6_pokemon[['HP', 'Attack', 'Defense', 'Sp. Atk', 'Sp. Def', 'Speed']].max() - gen6_pokemon[['HP', 'Attack', 'Defense', 'Sp. Atk', 'Sp. Def', 'Speed']].min()\n",
        "\n",
        "# 3. Comparar os resultados entre as gerações\n",
        "stats_comparison = pd.DataFrame({\n",
        "    'Gen1_Variance': gen1_var, 'Gen2_Variance': gen2_var, 'Gen3_Variance': gen3_var, 'Gen4_Variance': gen4_var, 'Gen5_Variance': gen5_var, 'Gen6_Variance': gen6_var,\n",
        "    'Gen1_Range': gen1_range, 'Gen2_Range': gen2_range, 'Gen3_Range': gen3_range, 'Gen4_Range': gen4_range, 'Gen5_Range': gen5_range, 'Gen6_Range': gen6_range,\n",
        "})\n",
        "print(\"Comparação da variância e amplitude dos atributos entre as gerações:\")\n",
        "print(stats_comparison)"
      ],
      "metadata": {
        "id": "o8Wh2k_rD3f7"
      },
      "execution_count": null,
      "outputs": []
    },
    {
      "cell_type": "code",
      "source": [
        "# Supondo que você já tenha carregado os dados para um DataFrame chamado 'pokemom_data'\n",
        "\n",
        "# 1. Filtrar os dados para obter os Pokémon de cada geração individualmente\n",
        "gen1_pokemon = pokemom_data[pokemom_data['Generation'] == 1]\n",
        "gen2_pokemon = pokemom_data[pokemom_data['Generation'] == 2]\n",
        "gen3_pokemon = pokemom_data[pokemom_data['Generation'] == 3]\n",
        "gen4_pokemon = pokemom_data[pokemom_data['Generation'] == 4]\n",
        "gen5_pokemon = pokemom_data[pokemom_data['Generation'] == 5]\n",
        "gen6_pokemon = pokemom_data[pokemom_data['Generation'] == 6]\n",
        "\n",
        "# 2. Calcular o mínimo e máximo dos atributos para cada geração\n",
        "gen1_min = gen1_pokemon[['HP', 'Attack', 'Defense', 'Sp. Atk', 'Sp. Def', 'Speed']].min()\n",
        "gen2_min = gen2_pokemon[['HP', 'Attack', 'Defense', 'Sp. Atk', 'Sp. Def', 'Speed']].min()\n",
        "gen3_min = gen3_pokemon[['HP', 'Attack', 'Defense', 'Sp. Atk', 'Sp. Def', 'Speed']].min()\n",
        "gen4_min = gen4_pokemon[['HP', 'Attack', 'Defense', 'Sp. Atk', 'Sp. Def', 'Speed']].min()\n",
        "gen5_min = gen5_pokemon[['HP', 'Attack', 'Defense', 'Sp. Atk', 'Sp. Def', 'Speed']].min()\n",
        "gen6_min = gen6_pokemon[['HP', 'Attack', 'Defense', 'Sp. Atk', 'Sp. Def', 'Speed']].min()\n",
        "\n",
        "gen1_max = gen1_pokemon[['HP', 'Attack', 'Defense', 'Sp. Atk', 'Sp. Def', 'Speed']].max()\n",
        "gen2_max = gen2_pokemon[['HP', 'Attack', 'Defense', 'Sp. Atk', 'Sp. Def', 'Speed']].max()\n",
        "gen3_max = gen3_pokemon[['HP', 'Attack', 'Defense', 'Sp. Atk', 'Sp. Def', 'Speed']].max()\n",
        "gen4_max = gen4_pokemon[['HP', 'Attack', 'Defense', 'Sp. Atk', 'Sp. Def', 'Speed']].max()\n",
        "gen5_max = gen5_pokemon[['HP', 'Attack', 'Defense', 'Sp. Atk', 'Sp. Def', 'Speed']].max()\n",
        "gen6_max = gen6_pokemon[['HP', 'Attack', 'Defense', 'Sp. Atk', 'Sp. Def', 'Speed']].max()\n",
        "\n",
        "# 3. Comparar os resultados entre as gerações\n",
        "stats_comparison = pd.DataFrame({\n",
        "    'Gen1_Min': gen1_min, 'Gen2_Min': gen2_min, 'Gen3_Min': gen3_min, 'Gen4_Min': gen4_min, 'Gen5_Min': gen5_min, 'Gen6_Min': gen6_min,\n",
        "    'Gen1_Max': gen1_max, 'Gen2_Max': gen2_max, 'Gen3_Max': gen3_max, 'Gen4_Max': gen4_max, 'Gen5_Max': gen5_max, 'Gen6_Max': gen6_max,\n",
        "})\n",
        "print(\"Comparação do mínimo e máximo dos atributos entre as gerações:\")\n",
        "print(stats_comparison)"
      ],
      "metadata": {
        "id": "CDgtppA_IQON"
      },
      "execution_count": null,
      "outputs": []
    },
    {
      "cell_type": "code",
      "source": [
        "#AVISO CODIGO É IGUAL A OUTRO MEDIA/MODA/MEDIA, SÓ QUE ELE CALCULAR SÓ A MÉDIA NAO PRECISA DA PRIORIDADE A ELE!!!\n",
        "# Supondo que você já tenha carregado os dados para um DataFrame chamado 'pokemom_data'\n",
        "\n",
        "# 1. Filtrar os dados para obter os Pokémon de cada geração individualmente\n",
        "gen1_pokemon = pokemom_data[pokemom_data['Generation'] == 1]\n",
        "gen2_pokemon = pokemom_data[pokemom_data['Generation'] == 2]\n",
        "gen3_pokemon = pokemom_data[pokemom_data['Generation'] == 3]\n",
        "gen4_pokemon = pokemom_data[pokemom_data['Generation'] == 4]\n",
        "gen5_pokemon = pokemom_data[pokemom_data['Generation'] == 5]\n",
        "gen6_pokemon = pokemom_data[pokemom_data['Generation'] == 6]\n",
        "\n",
        "# 2. Calcular as médias dos atributos para cada geração\n",
        "gen1_mean = gen1_pokemon[['HP', 'Attack', 'Defense', 'Sp. Atk', 'Sp. Def', 'Speed']].mean()\n",
        "gen2_mean = gen2_pokemon[['HP', 'Attack', 'Defense', 'Sp. Atk', 'Sp. Def', 'Speed']].mean()\n",
        "gen3_mean = gen3_pokemon[['HP', 'Attack', 'Defense', 'Sp. Atk', 'Sp. Def', 'Speed']].mean()\n",
        "gen4_mean = gen4_pokemon[['HP', 'Attack', 'Defense', 'Sp. Atk', 'Sp. Def', 'Speed']].mean()\n",
        "gen5_mean = gen5_pokemon[['HP', 'Attack', 'Defense', 'Sp. Atk', 'Sp. Def', 'Speed']].mean()\n",
        "gen6_mean = gen6_pokemon[['HP', 'Attack', 'Defense', 'Sp. Atk', 'Sp. Def', 'Speed']].mean()\n",
        "\n",
        "# 3. Comparar os resultados entre as gerações\n",
        "stats_comparison = pd.DataFrame({\n",
        "    'Gen1_Mean': gen1_mean, 'Gen2_Mean': gen2_mean, 'Gen3_Mean': gen3_mean, 'Gen4_Mean': gen4_mean, 'Gen5_Mean': gen5_mean, 'Gen6_Mean': gen6_mean,\n",
        "})\n",
        "print(\"Comparação das médias dos atributos entre as gerações:\")\n",
        "print(stats_comparison)"
      ],
      "metadata": {
        "id": "3r1kAVR_Mlk1"
      },
      "execution_count": null,
      "outputs": []
    },
    {
      "cell_type": "code",
      "source": [],
      "metadata": {
        "id": "0Xs1AqMlVKLU"
      },
      "execution_count": null,
      "outputs": []
    }
  ]
}