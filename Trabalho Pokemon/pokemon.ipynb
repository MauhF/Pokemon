{
  "nbformat": 4,
  "nbformat_minor": 0,
  "metadata": {
    "colab": {
      "provenance": []
    },
    "kernelspec": {
      "name": "python3",
      "display_name": "Python 3"
    },
    "language_info": {
      "name": "python"
    }
  },
  "cells": [
    {
      "cell_type": "code",
      "execution_count": null,
      "metadata": {
        "id": "5hGVfObBxh6d"
      },
      "outputs": [],
      "source": [
        "import pandas as pd\n",
        "import seaborn as sns\n",
        "import numpy as np\n",
        "import matplotlib.pyplot as plt"
      ]
    },
    {
      "cell_type": "code",
      "source": [
        "# Carregando os dados\n",
        "pokemom_data = pd.read_csv(\"/content/Pokemon_20240402174004(1).csv\")"
      ],
      "metadata": {
        "id": "PpuLS8ohxryu"
      },
      "execution_count": null,
      "outputs": []
    },
    {
      "cell_type": "code",
      "source": [
        "# Contando o número de Pokémon para cada tipo\n",
        "type_counts = pokemom_data['Type 1'].value_counts()"
      ],
      "metadata": {
        "id": "2B0mwzG8yM1r"
      },
      "execution_count": 20,
      "outputs": []
    },
    {
      "cell_type": "code",
      "source": [
        "# Calculando as estatísticas médias\n",
        "mean_stats = pokemom_data[['HP', 'Attack', 'Defense', 'Sp. Atk', 'Sp. Def', 'Speed']].mean()\n",
        "\n",
        "# Exibindo as estatísticas médias\n",
        "print(\"\\nEstatísticas médias de todos os Pokémon:\")\n",
        "print(mean_stats)"
      ],
      "metadata": {
        "id": "7QjJNoCbyaya",
        "outputId": "849f4cc9-269b-4d54-bb41-378cfc0f844d",
        "colab": {
          "base_uri": "https://localhost:8080/"
        }
      },
      "execution_count": 21,
      "outputs": [
        {
          "output_type": "stream",
          "name": "stdout",
          "text": [
            "\n",
            "Estatísticas médias de todos os Pokémon:\n",
            "HP         69.25875\n",
            "Attack     79.00125\n",
            "Defense    73.84250\n",
            "Sp. Atk    72.82000\n",
            "Sp. Def    71.90250\n",
            "Speed      68.27750\n",
            "dtype: float64\n"
          ]
        }
      ]
    },
    {
      "cell_type": "code",
      "source": [
        "# Supondo que você já tenha carregado os dados para um DataFrame chamado 'pokemom_data'\n",
        "\n",
        "# 1. Filtrar os dados para obter os Pokémon de cada geração individualmente\n",
        "en1_pokemon = pokemom_data[pokemom_data['Generation'] == 1]\n",
        "gen2_pokemon = pokemom_data[pokemom_data['Generation'] == 2]\n",
        "gen3_pokemon = pokemom_data[pokemom_data['Generation'] == 3]\n",
        "gen4_pokemon = pokemom_data[pokemom_data['Generation'] == 4]\n",
        "gen5_pokemon = pokemom_data[pokemom_data['Generation'] == 5]\n",
        "gen6_pokemon = pokemom_data[pokemom_data['Generation'] == 6]\n",
        "\n",
        "# 2. Calcular o desvio padrão dos atributos para cada geração\n",
        "gen1_std = gen1_pokemon[['HP', 'Attack', 'Defense', 'Sp. Atk', 'Sp. Def', 'Speed']].std()\n",
        "gen2_std = gen2_pokemon[['HP', 'Attack', 'Defense', 'Sp. Atk', 'Sp. Def', 'Speed']].std()\n",
        "gen3_std = gen3_pokemon[['HP', 'Attack', 'Defense', 'Sp. Atk', 'Sp. Def', 'Speed']].std()\n",
        "gen4_std = gen4_pokemon[['HP', 'Attack', 'Defense', 'Sp. Atk', 'Sp. Def', 'Speed']].std()\n",
        "gen5_std = gen5_pokemon[['HP', 'Attack', 'Defense', 'Sp. Atk', 'Sp. Def', 'Speed']].std()\n",
        "gen6_std = gen6_pokemon[['HP', 'Attack', 'Defense', 'Sp. Atk', 'Sp. Def', 'Speed']].std()\n",
        "\n",
        "# 3. Comparar os desvios padrão entre as gerações\n",
        "std_comparison = pd.DataFrame({'Gen1': gen1_std, 'Gen2': gen2_std, 'Gen3': gen3_std, 'Gen4': gen4_std, 'Gen5': gen5_std, 'Gen6': gen6_std})\n",
        "print(\"Comparação do desvio padrão dos atributos entre as gerações:\")\n",
        "print(std_comparison)"
      ],
      "metadata": {
        "id": "3v3SpgiE5Klh",
        "outputId": "cda95869-2b5a-432b-ab96-fdeea3292bf3",
        "colab": {
          "base_uri": "https://localhost:8080/"
        }
      },
      "execution_count": null,
      "outputs": [
        {
          "output_type": "stream",
          "name": "stdout",
          "text": [
            "Comparação do desvio padrão dos atributos entre as gerações:\n",
            "              Gen1       Gen2       Gen3       Gen4       Gen5       Gen6\n",
            "HP       28.153968  30.589359  24.059634  25.113604  22.407748  20.907822\n",
            "Attack   30.744727  32.708658  36.593767  32.780569  30.365685  29.179495\n",
            "Defense  28.641336  39.233749  35.222599  30.145741  23.318883  31.370301\n",
            "Sp. Atk  34.439106  27.814977  35.407510  31.907047  31.889097  31.790785\n",
            "Sp. Def  25.505275  31.534268  31.039628  27.498883  22.388721  30.086298\n",
            "Speed    29.675857  27.263132  31.331972  28.475005  28.726632  25.691954\n"
          ]
        }
      ]
    },
    {
      "cell_type": "code",
      "source": [
        "gen1_pokemon = pokemom_data[pokemom_data['Generation'] == 1]\n",
        "gen2_pokemon = pokemom_data[pokemom_data['Generation'] == 2]\n",
        "gen3_pokemon = pokemom_data[pokemom_data['Generation'] == 3]\n",
        "gen4_pokemon = pokemom_data[pokemom_data['Generation'] == 4]\n",
        "gen5_pokemon = pokemom_data[pokemom_data['Generation'] == 5]\n",
        "gen6_pokemon = pokemom_data[pokemom_data['Generation'] == 6]\n",
        "\n",
        "# 2. Calcular a média, moda e mediana dos atributos para cada geração\n",
        "gen1_stats = gen1_pokemon[['HP', 'Attack', 'Defense', 'Sp. Atk', 'Sp. Def', 'Speed']]\n",
        "gen2_stats = gen2_pokemon[['HP', 'Attack', 'Defense', 'Sp. Atk', 'Sp. Def', 'Speed']]\n",
        "gen3_stats = gen3_pokemon[['HP', 'Attack', 'Defense', 'Sp. Atk', 'Sp. Def', 'Speed']]\n",
        "gen4_stats = gen4_pokemon[['HP', 'Attack', 'Defense', 'Sp. Atk', 'Sp. Def', 'Speed']]\n",
        "gen5_stats = gen5_pokemon[['HP', 'Attack', 'Defense', 'Sp. Atk', 'Sp. Def', 'Speed']]\n",
        "gen6_stats = gen6_pokemon[['HP', 'Attack', 'Defense', 'Sp. Atk', 'Sp. Def', 'Speed']]\n",
        "\n",
        "gen1_mean = gen1_stats.mean()\n",
        "gen2_mean = gen2_stats.mean()\n",
        "gen3_mean = gen3_stats.mean()\n",
        "gen4_mean = gen4_stats.mean()\n",
        "gen5_mean = gen5_stats.mean()\n",
        "gen6_mean = gen6_stats.mean()\n",
        "\n",
        "gen1_mode = gen1_stats.mode().iloc[0]  # Moda assume o primeiro valor se houver múltiplos\n",
        "gen2_mode = gen2_stats.mode().iloc[0]\n",
        "gen3_mode = gen3_stats.mode().iloc[0]\n",
        "gen4_mode = gen4_stats.mode().iloc[0]\n",
        "gen5_mode = gen5_stats.mode().iloc[0]\n",
        "gen6_mode = gen6_stats.mode().iloc[0]\n",
        "\n",
        "gen1_median = gen1_stats.median()\n",
        "gen2_median = gen2_stats.median()\n",
        "gen3_median = gen3_stats.median()\n",
        "gen4_median = gen4_stats.median()\n",
        "gen5_median = gen5_stats.median()\n",
        "gen6_median = gen6_stats.median()\n",
        "\n",
        "# 3. Comparar os resultados entre as gerações\n",
        "stats_comparison = pd.DataFrame({\n",
        "    'Gen1_Mean': gen1_mean, 'Gen2_Mean': gen2_mean, 'Gen3_Mean': gen3_mean, 'Gen4_Mean': gen4_mean, 'Gen5_Mean': gen5_mean, 'Gen6_Mean': gen6_mean,\n",
        "    'Gen1_Mode': gen1_mode, 'Gen2_Mode': gen2_mode, 'Gen3_Mode': gen3_mode, 'Gen4_Mode': gen4_mode, 'Gen5_Mode': gen5_mode, 'Gen6_Mode': gen6_mode,\n",
        "    'Gen1_Median': gen1_median, 'Gen2_Median': gen2_median, 'Gen3_Median': gen3_median, 'Gen4_Median': gen4_median, 'Gen5_Median': gen5_median, 'Gen6_Median': gen6_median\n",
        "})\n",
        "print(\"Comparação da média, moda e mediana dos atributos entre as gerações:\")\n",
        "print(stats_comparison)"
      ],
      "metadata": {
        "id": "SXkJDnay6t6i",
        "outputId": "2c3da422-906a-4e3c-f200-9d1eefd905f0",
        "colab": {
          "base_uri": "https://localhost:8080/"
        }
      },
      "execution_count": null,
      "outputs": [
        {
          "output_type": "stream",
          "name": "stdout",
          "text": [
            "Comparação da média, moda e mediana dos atributos entre as gerações:\n",
            "         Gen1_Mean  Gen2_Mean  Gen3_Mean  Gen4_Mean  Gen5_Mean  Gen6_Mean  \\\n",
            "HP       65.819277  71.207547   66.54375  73.082645  71.787879  68.268293   \n",
            "Attack   76.638554  72.028302   81.62500  82.867769  82.066667  75.804878   \n",
            "Defense  70.861446  73.386792   74.10000  78.132231  72.327273  76.682927   \n",
            "Sp. Atk  71.819277  65.943396   75.80625  76.404959  71.987879  74.292683   \n",
            "Sp. Def  69.090361  73.905660   71.22500  77.190083  68.739394  74.890244   \n",
            "Speed    72.584337  61.811321   66.92500  71.338843  68.078788  66.439024   \n",
            "\n",
            "         Gen1_Mode  Gen2_Mode  Gen3_Mode  Gen4_Mode  Gen5_Mode  Gen6_Mode  \\\n",
            "HP            65.0       75.0         70       60.0       75.0       50.0   \n",
            "Attack        65.0       75.0         70       65.0       55.0       50.0   \n",
            "Defense       65.0       50.0         60       70.0       50.0       60.0   \n",
            "Sp. Atk       65.0       40.0         60      105.0       40.0       44.0   \n",
            "Sp. Def       80.0       65.0         60       85.0       50.0       75.0   \n",
            "Speed         70.0       85.0         50       60.0       60.0       60.0   \n",
            "\n",
            "         Gen1_Median  Gen2_Median  Gen3_Median  Gen4_Median  Gen5_Median  \\\n",
            "HP              62.0         70.0         65.0         70.0         70.0   \n",
            "Attack          75.0         73.5         75.0         80.0         80.0   \n",
            "Defense         66.0         70.0         67.5         72.0         70.0   \n",
            "Sp. Atk         65.0         65.0         70.0         71.0         65.0   \n",
            "Sp. Def         70.0         65.0         65.0         75.0         65.0   \n",
            "Speed           70.0         60.5         65.0         77.0         65.0   \n",
            "\n",
            "         Gen6_Median  \n",
            "HP              65.0  \n",
            "Attack          69.5  \n",
            "Defense         70.0  \n",
            "Sp. Atk         65.0  \n",
            "Sp. Def         70.5  \n",
            "Speed           60.0  \n"
          ]
        }
      ]
    },
    {
      "cell_type": "code",
      "source": [
        "# Supondo que você já tenha carregado os dados para um DataFrame chamado 'pokemom_data'\n",
        "\n",
        "# 1. Filtrar os dados para obter os Pokémon de cada geração individualmente\n",
        "gen1_pokemon = pokemom_data[pokemom_data['Generation'] == 1]\n",
        "gen2_pokemon = pokemom_data[pokemom_data['Generation'] == 2]\n",
        "gen3_pokemon = pokemom_data[pokemom_data['Generation'] == 3]\n",
        "gen4_pokemon = pokemom_data[pokemom_data['Generation'] == 4]\n",
        "gen5_pokemon = pokemom_data[pokemom_data['Generation'] == 5]\n",
        "gen6_pokemon = pokemom_data[pokemom_data['Generation'] == 6]\n",
        "\n",
        "# 2. Calcular a variância e a amplitude dos atributos para cada geração\n",
        "gen1_var = gen1_pokemon[['HP', 'Attack', 'Defense', 'Sp. Atk', 'Sp. Def', 'Speed']].var()\n",
        "gen2_var = gen2_pokemon[['HP', 'Attack', 'Defense', 'Sp. Atk', 'Sp. Def', 'Speed']].var()\n",
        "gen3_var = gen3_pokemon[['HP', 'Attack', 'Defense', 'Sp. Atk', 'Sp. Def', 'Speed']].var()\n",
        "gen4_var = gen4_pokemon[['HP', 'Attack', 'Defense', 'Sp. Atk', 'Sp. Def', 'Speed']].var()\n",
        "gen5_var = gen5_pokemon[['HP', 'Attack', 'Defense', 'Sp. Atk', 'Sp. Def', 'Speed']].var()\n",
        "gen6_var = gen6_pokemon[['HP', 'Attack', 'Defense', 'Sp. Atk', 'Sp. Def', 'Speed']].var()\n",
        "\n",
        "gen1_range = gen1_pokemon[['HP', 'Attack', 'Defense', 'Sp. Atk', 'Sp. Def', 'Speed']].max() - gen1_pokemon[['HP', 'Attack', 'Defense', 'Sp. Atk', 'Sp. Def', 'Speed']].min()\n",
        "gen2_range = gen2_pokemon[['HP', 'Attack', 'Defense', 'Sp. Atk', 'Sp. Def', 'Speed']].max() - gen2_pokemon[['HP', 'Attack', 'Defense', 'Sp. Atk', 'Sp. Def', 'Speed']].min()\n",
        "gen3_range = gen3_pokemon[['HP', 'Attack', 'Defense', 'Sp. Atk', 'Sp. Def', 'Speed']].max() - gen3_pokemon[['HP', 'Attack', 'Defense', 'Sp. Atk', 'Sp. Def', 'Speed']].min()\n",
        "gen4_range = gen4_pokemon[['HP', 'Attack', 'Defense', 'Sp. Atk', 'Sp. Def', 'Speed']].max() - gen4_pokemon[['HP', 'Attack', 'Defense', 'Sp. Atk', 'Sp. Def', 'Speed']].min()\n",
        "gen5_range = gen5_pokemon[['HP', 'Attack', 'Defense', 'Sp. Atk', 'Sp. Def', 'Speed']].max() - gen5_pokemon[['HP', 'Attack', 'Defense', 'Sp. Atk', 'Sp. Def', 'Speed']].min()\n",
        "gen6_range = gen6_pokemon[['HP', 'Attack', 'Defense', 'Sp. Atk', 'Sp. Def', 'Speed']].max() - gen6_pokemon[['HP', 'Attack', 'Defense', 'Sp. Atk', 'Sp. Def', 'Speed']].min()\n",
        "\n",
        "# 3. Comparar os resultados entre as gerações\n",
        "stats_comparison = pd.DataFrame({\n",
        "    'Gen1_Variance': gen1_var, 'Gen2_Variance': gen2_var, 'Gen3_Variance': gen3_var, 'Gen4_Variance': gen4_var, 'Gen5_Variance': gen5_var, 'Gen6_Variance': gen6_var,\n",
        "    'Gen1_Range': gen1_range, 'Gen2_Range': gen2_range, 'Gen3_Range': gen3_range, 'Gen4_Range': gen4_range, 'Gen5_Range': gen5_range, 'Gen6_Range': gen6_range,\n",
        "})\n",
        "print(\"Comparação da variância e amplitude dos atributos entre as gerações:\")\n",
        "print(stats_comparison)"
      ],
      "metadata": {
        "id": "o8Wh2k_rD3f7",
        "outputId": "043080ba-9029-4c5b-bc7b-29cb45880c47",
        "colab": {
          "base_uri": "https://localhost:8080/"
        }
      },
      "execution_count": null,
      "outputs": [
        {
          "output_type": "stream",
          "name": "stdout",
          "text": [
            "Comparação da variância e amplitude dos atributos entre as gerações:\n",
            "         Gen1_Variance  Gen2_Variance  Gen3_Variance  Gen4_Variance  \\\n",
            "HP          792.645929     935.708895     578.865998     630.693113   \n",
            "Attack      945.238262    1069.856334    1339.103774    1074.565702   \n",
            "Defense     820.326141    1539.287062    1240.631447     908.765702   \n",
            "Sp. Atk    1186.051990     773.672956    1253.691785    1018.059642   \n",
            "Sp. Def     650.519058     994.410063     963.458491     756.188567   \n",
            "Speed       880.656480     743.278347     981.692453     810.825895   \n",
            "\n",
            "         Gen5_Variance  Gen6_Variance  Gen1_Range  Gen2_Range  Gen3_Range  \\\n",
            "HP          502.107169     437.137007         240         235         169   \n",
            "Attack      922.074797     851.442939         185         175         165   \n",
            "Defense     543.770288     984.095754         175         220         210   \n",
            "Sp. Atk    1016.914486    1010.654020         179         155         170   \n",
            "Sp. Def     501.254841     905.185336         110         210         180   \n",
            "Speed       825.219364     660.076483         135         125         170   \n",
            "\n",
            "         Gen4_Range  Gen5_Range  Gen6_Range  \n",
            "HP              130         135          88  \n",
            "Attack          165         145         138  \n",
            "Defense         163         115         151  \n",
            "Sp. Atk         140         155         143  \n",
            "Sp. Def         120         110         129  \n",
            "Speed           130         135         103  \n"
          ]
        }
      ]
    },
    {
      "cell_type": "code",
      "source": [
        "# Supondo que você já tenha carregado os dados para um DataFrame chamado 'pokemom_data'\n",
        "\n",
        "# 1. Filtrar os dados para obter os Pokémon de cada geração individualmente\n",
        "gen1_pokemon = pokemom_data[pokemom_data['Generation'] == 1]\n",
        "gen2_pokemon = pokemom_data[pokemom_data['Generation'] == 2]\n",
        "gen3_pokemon = pokemom_data[pokemom_data['Generation'] == 3]\n",
        "gen4_pokemon = pokemom_data[pokemom_data['Generation'] == 4]\n",
        "gen5_pokemon = pokemom_data[pokemom_data['Generation'] == 5]\n",
        "gen6_pokemon = pokemom_data[pokemom_data['Generation'] == 6]\n",
        "\n",
        "# 2. Calcular o mínimo e máximo dos atributos para cada geração\n",
        "gen1_min = gen1_pokemon[['HP', 'Attack', 'Defense', 'Sp. Atk', 'Sp. Def', 'Speed']].min()\n",
        "gen2_min = gen2_pokemon[['HP', 'Attack', 'Defense', 'Sp. Atk', 'Sp. Def', 'Speed']].min()\n",
        "gen3_min = gen3_pokemon[['HP', 'Attack', 'Defense', 'Sp. Atk', 'Sp. Def', 'Speed']].min()\n",
        "gen4_min = gen4_pokemon[['HP', 'Attack', 'Defense', 'Sp. Atk', 'Sp. Def', 'Speed']].min()\n",
        "gen5_min = gen5_pokemon[['HP', 'Attack', 'Defense', 'Sp. Atk', 'Sp. Def', 'Speed']].min()\n",
        "gen6_min = gen6_pokemon[['HP', 'Attack', 'Defense', 'Sp. Atk', 'Sp. Def', 'Speed']].min()\n",
        "\n",
        "gen1_max = gen1_pokemon[['HP', 'Attack', 'Defense', 'Sp. Atk', 'Sp. Def', 'Speed']].max()\n",
        "gen2_max = gen2_pokemon[['HP', 'Attack', 'Defense', 'Sp. Atk', 'Sp. Def', 'Speed']].max()\n",
        "gen3_max = gen3_pokemon[['HP', 'Attack', 'Defense', 'Sp. Atk', 'Sp. Def', 'Speed']].max()\n",
        "gen4_max = gen4_pokemon[['HP', 'Attack', 'Defense', 'Sp. Atk', 'Sp. Def', 'Speed']].max()\n",
        "gen5_max = gen5_pokemon[['HP', 'Attack', 'Defense', 'Sp. Atk', 'Sp. Def', 'Speed']].max()\n",
        "gen6_max = gen6_pokemon[['HP', 'Attack', 'Defense', 'Sp. Atk', 'Sp. Def', 'Speed']].max()\n",
        "\n",
        "# 3. Comparar os resultados entre as gerações\n",
        "stats_comparison = pd.DataFrame({\n",
        "    'Gen1_Min': gen1_min, 'Gen2_Min': gen2_min, 'Gen3_Min': gen3_min, 'Gen4_Min': gen4_min, 'Gen5_Min': gen5_min, 'Gen6_Min': gen6_min,\n",
        "    'Gen1_Max': gen1_max, 'Gen2_Max': gen2_max, 'Gen3_Max': gen3_max, 'Gen4_Max': gen4_max, 'Gen5_Max': gen5_max, 'Gen6_Max': gen6_max,\n",
        "})\n",
        "print(\"Comparação do mínimo e máximo dos atributos entre as gerações:\")\n",
        "print(stats_comparison)"
      ],
      "metadata": {
        "id": "CDgtppA_IQON",
        "outputId": "c499aebf-189f-4b92-c3c9-7590c0a1c3f6",
        "colab": {
          "base_uri": "https://localhost:8080/"
        }
      },
      "execution_count": null,
      "outputs": [
        {
          "output_type": "stream",
          "name": "stdout",
          "text": [
            "Comparação do mínimo e máximo dos atributos entre as gerações:\n",
            "         Gen1_Min  Gen2_Min  Gen3_Min  Gen4_Min  Gen5_Min  Gen6_Min  Gen1_Max  \\\n",
            "HP             10        20         1        20        30        38       250   \n",
            "Attack          5        10        15         5        25        22       190   \n",
            "Defense         5        10        20         5        30        33       180   \n",
            "Sp. Atk        15        10        10        10        15        27       194   \n",
            "Sp. Def        20        20        20        30        25        25       130   \n",
            "Speed          15         5        10         5        10        23       150   \n",
            "\n",
            "         Gen2_Max  Gen3_Max  Gen4_Max  Gen5_Max  Gen6_Max  \n",
            "HP            255       170       150       165       126  \n",
            "Attack        185       180       170       170       160  \n",
            "Defense       230       230       168       145       184  \n",
            "Sp. Atk       165       180       150       170       170  \n",
            "Sp. Def       230       200       150       135       154  \n",
            "Speed         130       180       135       145       126  \n"
          ]
        }
      ]
    },
    {
      "cell_type": "code",
      "source": [
        "#AVISO CODIGO É IGUAL A OUTRO MEDIA/MODA/MEDIA, SÓ QUE ELE CALCULAR SÓ A MÉDIA NAO PRECISA DA PRIORIDADE A ELE!!!\n",
        "# Supondo que você já tenha carregado os dados para um DataFrame chamado 'pokemom_data'\n",
        "\n",
        "# 1. Filtrar os dados para obter os Pokémon de cada geração individualmente\n",
        "gen1_pokemon = pokemom_data[pokemom_data['Generation'] == 1]\n",
        "gen2_pokemon = pokemom_data[pokemom_data['Generation'] == 2]\n",
        "gen3_pokemon = pokemom_data[pokemom_data['Generation'] == 3]\n",
        "gen4_pokemon = pokemom_data[pokemom_data['Generation'] == 4]\n",
        "gen5_pokemon = pokemom_data[pokemom_data['Generation'] == 5]\n",
        "gen6_pokemon = pokemom_data[pokemom_data['Generation'] == 6]\n",
        "\n",
        "# 2. Calcular as médias dos atributos para cada geração\n",
        "gen1_mean = gen1_pokemon[['HP', 'Attack', 'Defense', 'Sp. Atk', 'Sp. Def', 'Speed']].mean()\n",
        "gen2_mean = gen2_pokemon[['HP', 'Attack', 'Defense', 'Sp. Atk', 'Sp. Def', 'Speed']].mean()\n",
        "gen3_mean = gen3_pokemon[['HP', 'Attack', 'Defense', 'Sp. Atk', 'Sp. Def', 'Speed']].mean()\n",
        "gen4_mean = gen4_pokemon[['HP', 'Attack', 'Defense', 'Sp. Atk', 'Sp. Def', 'Speed']].mean()\n",
        "gen5_mean = gen5_pokemon[['HP', 'Attack', 'Defense', 'Sp. Atk', 'Sp. Def', 'Speed']].mean()\n",
        "gen6_mean = gen6_pokemon[['HP', 'Attack', 'Defense', 'Sp. Atk', 'Sp. Def', 'Speed']].mean()\n",
        "\n",
        "# 3. Comparar os resultados entre as gerações\n",
        "stats_comparison = pd.DataFrame({\n",
        "    'Gen1_Mean': gen1_mean, 'Gen2_Mean': gen2_mean, 'Gen3_Mean': gen3_mean, 'Gen4_Mean': gen4_mean, 'Gen5_Mean': gen5_mean, 'Gen6_Mean': gen6_mean,\n",
        "})\n",
        "print(\"Comparação das médias dos atributos entre as gerações:\")\n",
        "print(stats_comparison)"
      ],
      "metadata": {
        "id": "3r1kAVR_Mlk1"
      },
      "execution_count": null,
      "outputs": []
    },
    {
      "cell_type": "code",
      "source": [],
      "metadata": {
        "id": "0Xs1AqMlVKLU"
      },
      "execution_count": null,
      "outputs": []
    }
  ]
}